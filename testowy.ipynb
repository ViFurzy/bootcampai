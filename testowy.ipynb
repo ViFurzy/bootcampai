{
  "nbformat": 4,
  "nbformat_minor": 0,
  "metadata": {
    "colab": {
      "provenance": [],
      "gpuType": "T4",
      "authorship_tag": "ABX9TyPe+1D5j+M93MfLKywvleQP",
      "include_colab_link": true
    },
    "kernelspec": {
      "name": "python3",
      "display_name": "Python 3"
    },
    "language_info": {
      "name": "python"
    },
    "accelerator": "GPU"
  },
  "cells": [
    {
      "cell_type": "markdown",
      "metadata": {
        "id": "view-in-github",
        "colab_type": "text"
      },
      "source": [
        "<a href=\"https://colab.research.google.com/github/ViFurzy/bootcampai/blob/main/testowy.ipynb\" target=\"_parent\"><img src=\"https://colab.research.google.com/assets/colab-badge.svg\" alt=\"Open In Colab\"/></a>"
      ]
    },
    {
      "cell_type": "code",
      "execution_count": 1,
      "metadata": {
        "colab": {
          "base_uri": "https://localhost:8080/"
        },
        "id": "Ez6vgD84hcX5",
        "outputId": "e5121891-d0fd-40e3-df2f-475d697557c5"
      },
      "outputs": [
        {
          "output_type": "stream",
          "name": "stdout",
          "text": [
            "Hello Collab\n"
          ]
        }
      ],
      "source": [
        "print(\"Hello Collab\")"
      ]
    },
    {
      "cell_type": "code",
      "source": [
        "import pandas\n",
        "a = 18\n",
        "b = 10\n",
        "wynik = a+b\n",
        "print(wynik)"
      ],
      "metadata": {
        "colab": {
          "base_uri": "https://localhost:8080/"
        },
        "id": "8JJvh8NXhl5i",
        "outputId": "d066e75c-49dd-46d1-daee-3bdf8aa79739"
      },
      "execution_count": 2,
      "outputs": [
        {
          "output_type": "stream",
          "name": "stdout",
          "text": [
            "28\n"
          ]
        }
      ]
    },
    {
      "cell_type": "markdown",
      "source": [
        "### Treningowy komentarz"
      ],
      "metadata": {
        "id": "Soq3NhafhmQ1"
      }
    }
  ]
}